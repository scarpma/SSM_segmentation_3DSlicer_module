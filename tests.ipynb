{
 "cells": [
  {
   "cell_type": "code",
   "execution_count": 1,
   "id": "0bd2724a-5fb8-4299-ae2b-84bab6a79621",
   "metadata": {},
   "outputs": [],
   "source": [
    "### SLICER\n",
    "## setup mean model\n",
    "## align model center to CT center\n",
    "## optionally invert axes\n",
    "## scale model to 0.5*CT_ROI\n",
    "## define manual landmarks on CT\n",
    "## optimize to match manual landmarks\n",
    "\n",
    "\n",
    "### GREY LEVEL MODEL\n",
    "## align SSM sample to CT-segmented-model\n",
    "## define landmarks\n",
    "## extract profiles\n",
    "## compute covariance matrix"
   ]
  },
  {
   "cell_type": "code",
   "execution_count": 2,
   "id": "4c50fb67-59b1-4bf4-8b60-2da4c5f8ed74",
   "metadata": {},
   "outputs": [],
   "source": [
    "import numpy as np\n",
    "\n",
    "import nibabel as nib\n",
    "import pyvista as pv\n",
    "import vtk\n",
    "import scipy.spatial.distance\n",
    "import scipy.interpolate\n",
    "\n",
    "import os\n",
    "import os.path as osp\n",
    "\n",
    "def convertRasToIjk(points):\n",
    "    points = np.c_[points, np.ones(points.shape[0])]\n",
    "    pointsIjk = np.einsum('ab,ib->ia', RASToIjk, points)[:,:-1]\n",
    "    return pointsIjk\n",
    "\n",
    "def ICP(source, target):\n",
    "    icp = vtk.vtkIterativeClosestPointTransform()\n",
    "    icp.SetSource(source.copy())\n",
    "    icp.SetTarget(target.copy())\n",
    "    icp.GetLandmarkTransform().SetModeToRigidBody()\n",
    "    #icp.DebugOn()\n",
    "    icp.SetMaximumNumberOfIterations(20)\n",
    "    icp.StartByMatchingCentroidsOn()\n",
    "    icp.Modified()\n",
    "    icp.Update()\n",
    "    \n",
    "    icpTransformFilter = vtk.vtkTransformPolyDataFilter()\n",
    "    icpTransformFilter.SetInputData(SSMModel)\n",
    "    icpTransformFilter.SetTransform(icp)\n",
    "    icpTransformFilter.Update()\n",
    "    \n",
    "    return pv.PolyData(icpTransformFilter.GetOutput())\n",
    "\n",
    "def getGreedyPerm(D, M):\n",
    "    \"\"\"\n",
    "    A Naive O(N^2) algorithm to do furthest points sampling\n",
    "    Parameters\n",
    "    ----------\n",
    "    D : ndarray (N, N)\n",
    "        An NxN distance matrix for points\n",
    "    Return\n",
    "    ------\n",
    "    tuple (list, list)\n",
    "        (permutation (N-length array of indices),\n",
    "        lambdas (N-length array of insertion radii))\n",
    "    preso da\n",
    "    https://gist.github.com/ctralie/128cc07da67f1d2e10ea470ee2d23fe8\n",
    "    \"\"\"\n",
    "    N = D.shape[0]\n",
    "    #By default, takes the first point in the list to be the\n",
    "    #first point in the permutation, but could be random\n",
    "    perm = np.zeros(M, dtype=np.int64)\n",
    "    lambdas = np.zeros(M)\n",
    "    ds = D[0, :]\n",
    "    for i in range(1, M):\n",
    "        idx = np.argmax(ds)\n",
    "        perm[i] = idx\n",
    "        lambdas[i] = ds[idx]\n",
    "        ds = np.minimum(ds, D[idx, :])\n",
    "    return (perm, lambdas)\n",
    "\n",
    "patientName = \"A2\"\n",
    "inputVolumePathTemplate = \"/home/bcl/Martino/aorta_segmentation_v3/aorta_dataset_nii/imagesTr/{}.nii.gz\"\n",
    "inputVolumePath = inputVolumePathTemplate.format(patientName)\n",
    "inputVolumeNib = nib.load(inputVolumePath)\n",
    "print(\"Loading nifti...\", end=\" \")\n",
    "inputVolumeNumpy = inputVolumeNib.get_fdata()\n",
    "print(\"done!\")\n",
    "ijkToRASMatrix = inputVolumeNib.affine\n",
    "RASToIjk = np.linalg.inv(ijkToRASMatrix)\n",
    "\n",
    "# define interpolation method for the image volume\n",
    "ii, jj, kk = [np.arange(0,inputVolumeNumpy.shape[i]) for i in range(3)]\n",
    "interpolator = scipy.interpolate.RegularGridInterpolator(\n",
    "    (ii, jj, kk),\n",
    "    inputVolumeNumpy,\n",
    "    method='linear',\n",
    ")\n",
    "\n",
    "convertSSMModelsToRAS = True\n",
    "SSMModelPathTemplate = \"/home/bcl/Martino/aortaRegistrationPytorch3d/aligned_dataset_meshmixer_corrected_relaxed_smoothedBou/V2_to_{}_relaxed.vtp\"\n",
    "SSMModelPath = SSMModelPathTemplate.format(patientName)\n",
    "SSMModel = pv.read(SSMModelPath)\n",
    "LPSToRASMatrix = np.diag([-1,-1,1,1])\n",
    "if convertSSMModelsToRAS:\n",
    "    SSMModel = SSMModel.transform(LPSToRASMatrix)\n",
    "origModelPath = \"/home/bcl/Martino/aorta_segmentation_v3/aorta_dataset_nii/simulationModelsTr/A2.vtp\"\n",
    "origModel = pv.read(origModelPath)\n",
    "if convertSSMModelsToRAS:\n",
    "    origModel = origModel.transform(LPSToRASMatrix)\n",
    "SSMTransformed = ICP(SSMModel, origModel)\n",
    "SSMTransformed = SSMTransformed.compute_normals(cell_normals=False)\n",
    "\n",
    "#SSMTransformed.save('SSMTrasformed.vtp')\n",
    "\n",
    "# # define sample points\n",
    "# distances = scipy.spatial.distance.pdist(SSMTransformed.points , metric='euclidean')\n",
    "# distances = scipy.spatial.distance.squareform(distances, force='tomatrix', checks=True)\n",
    "# nSamplePoints = 500\n",
    "# samplePointsIdxs = getGreedyPerm(distances, nSamplePoints)[0]\n",
    "# samplePoints = SSMTransformed.points[samplePointsIdxs]\n",
    "# np.savetxt('samplePoints.txt', samplePointsIdxs, fmt=\"%i\", delimiter=',')\n",
    "# pv.PolyData(samplePoints).save('samplePointsForA2Model.vtp')\n",
    "\n",
    "samplePointsIdxs = np.loadtxt('samplePoints.txt', dtype=int)\n",
    "samplePoints = SSMTransformed.points[samplePointsIdxs]\n",
    "sampleNormals = SSMTransformed['Normals'][samplePointsIdxs]\n",
    "\n",
    "profileSpacing = 1. #mm\n",
    "profileLen = 20 #mm\n",
    "def computeProfilePoints(point, direction):\n",
    "    t = np.arange(-profileLen/2., (profileLen)/2 + profileSpacing, profileSpacing)\n",
    "    # (t.shape[0], nSamplePoints, 3)\n",
    "    return point + np.einsum('i,kj->ikj', t, direction)\n",
    "\n",
    "# compute coordinates of sampling points (near the model's surface)\n",
    "profilePoints = computeProfilePoints(samplePoints, sampleNormals)\n",
    "# convert sampling points coordinate to IJK space to sample the image\n",
    "pointsIjk = convertRasToIjk(profilePoints.reshape(-1,3))\n",
    "profiles = interpolator(pointsIjk).reshape(profilePoints.shape[:-1])\n",
    "\n",
    "profiles_norm_grad = np.gradient(profiles, profileSpacing, axis=0)\n",
    "profiles_norm_grad = profiles_norm_grad / profiles_norm_grad.std(axis=0)\n",
    "\n",
    "profilesDir = \"./profiles/\"\n",
    "if not osp.isdir(profilesDir):\n",
    "    os.makedirs(profilesDir)\n",
    "profilePathTemplate = osp.join(profilesDir, \"{}.txt\")\n",
    "np.savetxt(profilePathTemplate.format(patientName), profiles_norm_grad.T.reshape(-1), fmt='%.5f')\n",
    "\n",
    "# plots\n",
    "plots = True\n",
    "profilesPlotsDir = osp.join(profilesDir, \"plots\")\n",
    "if not osp.isdir(profilesPlotsDir):\n",
    "    os.makedirs(profilesPlotsDir)\n",
    "plotsPathTemplate = osp.join(profilesPlotsDir, \"{}.png\")\n",
    "if plots:\n",
    "    t = np.arange(-profileLen/2., (profileLen)/2 + profileSpacing, profileSpacing)\n",
    "    plt.errorbar(t, profiles_norm_grad.mean(-1), yerr=profiles_norm_grad.std(-1))\n",
    "    plt.xlabel(\"displacement from surface [mm]\")\n",
    "    plt.ylabel(\"normalized gradient\")\n",
    "    plt.title(\"{} profiles mean\".format(patientName))\n",
    "    plt.savefig(plotsPathTemplate.format(patientName), dpi=80)\n",
    "    plt.close()"
   ]
  },
  {
   "cell_type": "code",
   "execution_count": 121,
   "id": "9f87011d-4982-4331-af31-c864b94ad81f",
   "metadata": {},
   "outputs": [
    {
     "data": {
      "text/plain": [
       "dtype('float64')"
      ]
     },
     "execution_count": 121,
     "metadata": {},
     "output_type": "execute_result"
    }
   ],
   "source": [
    "cov_matrix = np.cov(profiles_norm_grad.T) # num observations, features\n",
    "#cov_matrix_inv = np.linalg.inv(cov_matrix)"
   ]
  },
  {
   "cell_type": "code",
   "execution_count": 122,
   "id": "5f4cac06-d656-4cba-a7ad-5c7720ee99eb",
   "metadata": {},
   "outputs": [
    {
     "data": {
      "text/plain": [
       "(500, 500)"
      ]
     },
     "execution_count": 122,
     "metadata": {},
     "output_type": "execute_result"
    }
   ],
   "source": [
    "cov_matrix.shape"
   ]
  },
  {
   "cell_type": "code",
   "execution_count": 37,
   "id": "86944d51-77d6-41ca-bbf6-f86741063b7d",
   "metadata": {},
   "outputs": [
    {
     "name": "stdout",
     "output_type": "stream",
     "text": [
      "Using matplotlib backend: Qt5Agg\n"
     ]
    }
   ],
   "source": [
    "import matplotlib.pyplot as plt\n",
    "%matplotlib"
   ]
  },
  {
   "cell_type": "code",
   "execution_count": null,
   "id": "56d5bf1f-318e-40e4-8165-ab2c6c9d8716",
   "metadata": {},
   "outputs": [],
   "source": [
    "pv.PolyData(convertRasToIjk(SSMTransformed.points)).save('SSMTransformed_IJKSpace.vtp')"
   ]
  },
  {
   "cell_type": "code",
   "execution_count": null,
   "id": "9d3268b9-e9b1-4eeb-ba20-61f34c96caf2",
   "metadata": {},
   "outputs": [],
   "source": []
  }
 ],
 "metadata": {
  "kernelspec": {
   "display_name": "Python 3 (ipykernel)",
   "language": "python",
   "name": "python3"
  },
  "language_info": {
   "codemirror_mode": {
    "name": "ipython",
    "version": 3
   },
   "file_extension": ".py",
   "mimetype": "text/x-python",
   "name": "python",
   "nbconvert_exporter": "python",
   "pygments_lexer": "ipython3",
   "version": "3.8.13"
  }
 },
 "nbformat": 4,
 "nbformat_minor": 5
}
