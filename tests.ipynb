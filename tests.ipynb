{
 "cells": [
  {
   "cell_type": "code",
   "execution_count": 1,
   "id": "0bd2724a-5fb8-4299-ae2b-84bab6a79621",
   "metadata": {},
   "outputs": [],
   "source": [
    "### SLICER\n",
    "## setup mean model\n",
    "## align model center to CT center\n",
    "## optionally invert axes\n",
    "## scale model to 0.5*CT_ROI\n",
    "## define manual landmarks on CT\n",
    "## optimize to match manual landmarks\n",
    "\n",
    "\n",
    "### GREY LEVEL MODEL\n",
    "## align SSM sample to CT-segmented-model\n",
    "## define landmarks\n",
    "## extract profiles\n",
    "## compute covariance matrix"
   ]
  },
  {
   "cell_type": "markdown",
   "id": "3534fe9d-7ee5-44e9-8c63-26bbe4fdd369",
   "metadata": {},
   "source": [
    "# DEBUG"
   ]
  },
  {
   "cell_type": "code",
   "execution_count": 203,
   "id": "478db203-474f-4db2-93f4-29f4c30c3a22",
   "metadata": {},
   "outputs": [],
   "source": [
    "from extract_profile import *\n",
    "%matplotlib\n",
    "\n",
    "patientName = \"V2\"\n",
    "\n",
    "def convertRasToIjk(points):\n",
    "    points = np.c_[points, np.ones(points.shape[0])]\n",
    "    pointsIjk = np.einsum('ab,ib->ia', RASToIjk, points)[:,:-1]\n",
    "    return pointsIjk\n",
    "\n",
    "inputVolumePath = inputVolumePathTemplate.format(patientName)\n",
    "inputVolumeNib = nib.load(inputVolumePath)\n",
    "print(\"Loading nifti...\", end=\" \")\n",
    "inputVolumeNumpy = inputVolumeNib.get_fdata()\n",
    "print(\"done!\")\n",
    "ijkToRASMatrix = inputVolumeNib.affine\n",
    "RASToIjk = np.linalg.inv(ijkToRASMatrix)\n",
    "\n",
    "# define interpolation method for the image volume\n",
    "ii, jj, kk = [np.arange(0,inputVolumeNumpy.shape[i]) for i in range(3)]\n",
    "interpolator = scipy.interpolate.RegularGridInterpolator(\n",
    "    (ii, jj, kk),\n",
    "    inputVolumeNumpy,\n",
    "    method='linear',\n",
    "    bounds_error=False,\n",
    "    fill_value=0.,\n",
    ")\n",
    "SSMModelPath = SSMModelPathTemplate.format(patientName)\n",
    "SSMModel = pv.read(SSMModelPath)\n",
    "LPSToRASMatrix = np.diag([-1,-1,1,1])\n",
    "if convertSSMModelsToRAS:\n",
    "    SSMModel = SSMModel.transform(LPSToRASMatrix)\n",
    "origModelPath = origModelPathTemplate.format(patientName)\n",
    "origModel = pv.read(origModelPath)\n",
    "\n",
    "if convertSSMModelsToRAS:\n",
    "    origModel = origModel.transform(LPSToRASMatrix)\n",
    "SSMTransformed = ICP(SSMModel, origModel)\n",
    "SSMTransformed = SSMTransformed.compute_normals(cell_normals=False)\n",
    "\n",
    "#SSMTransformed.save('SSMTrasformed.vtp')\n",
    "\n",
    "# # define sample points\n",
    "# distances = scipy.spatial.distance.pdist(SSMTransformed.points , metric='euclidean')\n",
    "# distances = scipy.spatial.distance.squareform(distances, force='tomatrix', checks=True)\n",
    "# nSamplePoints = 500\n",
    "# samplePointsIdxs = getGreedyPerm(distances, nSamplePoints)[0]\n",
    "# samplePoints = SSMTransformed.points[samplePointsIdxs]\n",
    "# np.savetxt('samplePoints.txt', samplePointsIdxs, fmt=\"%i\", delimiter=',')\n",
    "# pv.PolyData(samplePoints).save('samplePointsForA2Model.vtp')\n",
    "\n",
    "samplePointsIdxs = np.loadtxt('samplePoints.txt', dtype=int)\n",
    "samplePoints = SSMTransformed.points[samplePointsIdxs]\n",
    "sampleNormals = SSMTransformed['Normals'][samplePointsIdxs]\n",
    "\n",
    "def computeProfilePoints(point, direction):\n",
    "    t = np.arange(-profileLen/2., (profileLen)/2 + profileSpacing, profileSpacing)\n",
    "    # (t.shape[0], nSamplePoints, 3)\n",
    "    return point + np.einsum('i,kj->ikj', t, direction)\n",
    "\n",
    "# compute coordinates of sampling points (near the model's surface)\n",
    "profilePoints = computeProfilePoints(samplePoints, sampleNormals)\n",
    "# convert sampling points coordinate to IJK space to sample the image\n",
    "pointsIjk = convertRasToIjk(profilePoints.reshape(-1,3))\n",
    "profiles = interpolator(pointsIjk).reshape(profilePoints.shape[:-1])\n",
    "\n",
    "profiles_norm_grad = np.gradient(profiles, profileSpacing, axis=0)\n",
    "profiles_norm_grad = profiles_norm_grad / profiles_norm_grad.std(axis=0)\n",
    "\n",
    "if not osp.isdir(profilesDir):\n",
    "    os.makedirs(profilesDir)\n",
    "profilePathTemplate = osp.join(profilesDir, \"{}.txt\")\n",
    "np.savetxt(profilePathTemplate.format(patientName), profiles_norm_grad.T.reshape(-1), fmt='%.5f')\n",
    "\n",
    "# plots\n",
    "profilesPlotsDir = osp.join(profilesDir, \"plots\")\n",
    "if not osp.isdir(profilesPlotsDir):\n",
    "    os.makedirs(profilesPlotsDir)\n",
    "plotsPathTemplate = osp.join(profilesPlotsDir, \"{}.png\")\n",
    "if plots:\n",
    "    t = np.arange(-profileLen/2., (profileLen)/2 + profileSpacing, profileSpacing)\n",
    "    plt.errorbar(t, profiles_norm_grad.mean(-1), yerr=profiles_norm_grad.std(-1))\n",
    "    plt.xlabel(\"displacement from surface [mm]\")\n",
    "    plt.ylabel(\"normalized gradient\")\n",
    "    plt.title(\"{} profiles mean\".format(patientName))\n",
    "    #plt.savefig(plotsPathTemplate.format(patientName), dpi=80)\n",
    "    #plt.close()\n",
    "    plt.show()"
   ]
  },
  {
   "cell_type": "code",
   "execution_count": 213,
   "id": "de1adad2-bdd3-452c-a2e2-caa834f6ea5b",
   "metadata": {},
   "outputs": [],
   "source": [
    "origModel.save('orig.vtp')\n",
    "SSMTransformed.save('transformed.vtp')\n",
    "#pv.PolyData(convertRasToIjk(SSMTransformed.points)).save('SSMTransformed_IJKSpace.vtp')"
   ]
  },
  {
   "cell_type": "markdown",
   "id": "59a9232c-6927-4744-aaa2-bb6b8d5e41d0",
   "metadata": {},
   "source": [
    "# Covariance and Mahalanobis distance"
   ]
  },
  {
   "cell_type": "code",
   "execution_count": 1,
   "id": "cdee21f1-ed96-4f62-abca-e8ecb7ec7e28",
   "metadata": {},
   "outputs": [],
   "source": [
    "import compute_profiles_covariance as Covariance"
   ]
  },
  {
   "cell_type": "code",
   "execution_count": 2,
   "id": "06558bfd-7df3-457c-843e-79242657c907",
   "metadata": {},
   "outputs": [],
   "source": [
    "profiles = Covariance.loadProfiles()"
   ]
  },
  {
   "cell_type": "code",
   "execution_count": 3,
   "id": "de17eef6-1c45-4058-9829-1a8bfcae1589",
   "metadata": {},
   "outputs": [],
   "source": [
    "cov, mean, std = Covariance.get_covariance_object(profiles, load=True)"
   ]
  },
  {
   "cell_type": "code",
   "execution_count": 15,
   "id": "a38add70-19b4-4012-b853-4668cbeafdb9",
   "metadata": {},
   "outputs": [
    {
     "data": {
      "text/plain": [
       "array([ 94.53223648,  95.11225354, 103.86733194,  94.85320516,\n",
       "       109.72711813,  95.68317252, 101.17633584,  94.84570704,\n",
       "        94.76644382,  96.62729175, 105.63122903,  91.28632643,\n",
       "       100.9914105 , 101.60277366, 102.22377276,  91.25302704,\n",
       "       104.10853368, 106.21893987, 103.94872908, 103.81646305,\n",
       "       104.98721126,  99.3242734 ,  91.63005114,  88.25961331,\n",
       "        77.69849354, 101.84943665,  86.96715198,  92.06248993,\n",
       "        90.12448427, 103.69803474,  92.11975173,  97.92437079,\n",
       "        97.24616755,  94.71898841,  91.3031026 ,  82.46432302,\n",
       "        97.75167547,  92.721234  , 100.3363223 ,  86.6782274 ,\n",
       "        92.19193479,  87.57091732, 106.6722439 ,  90.74274838,\n",
       "        92.3138823 ])"
      ]
     },
     "execution_count": 15,
     "metadata": {},
     "output_type": "execute_result"
    }
   ],
   "source": [
    "cov.mahalanobis((profiles - mean) / std)"
   ]
  },
  {
   "cell_type": "markdown",
   "id": "83d0497c-63f5-4dbe-9d88-bbc3d9aa3b18",
   "metadata": {},
   "source": [
    "# registration optimization"
   ]
  },
  {
   "cell_type": "code",
   "execution_count": null,
   "id": "f267bead-504e-45ab-b595-9383c1b8f06b",
   "metadata": {},
   "outputs": [],
   "source": [
    "parameters = np.zeros"
   ]
  }
 ],
 "metadata": {
  "kernelspec": {
   "display_name": "Python 3 (ipykernel)",
   "language": "python",
   "name": "python3"
  },
  "language_info": {
   "codemirror_mode": {
    "name": "ipython",
    "version": 3
   },
   "file_extension": ".py",
   "mimetype": "text/x-python",
   "name": "python",
   "nbconvert_exporter": "python",
   "pygments_lexer": "ipython3",
   "version": "3.8.13"
  }
 },
 "nbformat": 4,
 "nbformat_minor": 5
}
